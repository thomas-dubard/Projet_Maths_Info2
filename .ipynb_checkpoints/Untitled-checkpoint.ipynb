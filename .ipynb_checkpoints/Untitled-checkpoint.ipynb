{
 "cells": [
  {
   "cell_type": "markdown",
   "metadata": {},
   "source": [
    "# Projet équation différentielles 2"
   ]
  },
  {
   "cell_type": "markdown",
   "metadata": {},
   "source": [
    "### par Thomas Dubard et Zhaoming Liang"
   ]
  },
  {
   "cell_type": "markdown",
   "metadata": {},
   "source": [
    "## Pas fixe"
   ]
  },
  {
   "cell_type": "markdown",
   "metadata": {},
   "source": [
    "La fonction qui suit vise à implémenter une méthode d'Euler explicite afin de résoudre des équations différentielles sous la forme x' = f(x, t)."
   ]
  },
  {
   "cell_type": "code",
   "execution_count": 3,
   "metadata": {},
   "outputs": [],
   "source": [
    "import numpy as np\n",
    "import matplotlib.pyplot as plt\n",
    "import math"
   ]
  },
  {
   "cell_type": "code",
   "execution_count": 4,
   "metadata": {},
   "outputs": [],
   "source": [
    "t0 = 0.  # permet de changer facilement la condition initiale en temps\n",
    "x0 = 1.\n",
    "eps = 1e-3\n",
    "n = 50  # permet de changer facilement le nombre d'itérations que l'on va effectuer sur toutes les méthodes"
   ]
  },
  {
   "cell_type": "code",
   "execution_count": 6,
   "metadata": {},
   "outputs": [],
   "source": [
    "# Euler explicite d'ordre 1\n",
    "def solve_euler_explicit(f, x0, dt=0.01, t0=0, tf=1):\n",
    "    t = [t0]  \n",
    "    # on va prendre la convention que la condition initiale x0 est en t0 qui est global sur tout le programme\n",
    "    x = [x0]\n",
    "    while t[-1] < tf and x[-1] < 100:\n",
    "        x.append(x[-1] + dt * f(t[-1], x[-1]))\n",
    "        t.append(t[-1] + dt)\n",
    "    t = np.array(t[:-1])\n",
    "    x = np.array(x[:-1])\n",
    "    return t, x"
   ]
  },
  {
   "cell_type": "markdown",
   "metadata": {},
   "source": [
    "On va tester toutes les méthodes qui suivent avec l'exponentielle."
   ]
  },
  {
   "cell_type": "code",
   "execution_count": 1,
   "metadata": {},
   "outputs": [],
   "source": [
    "def f(x, t):\n",
    "    return x"
   ]
  },
  {
   "cell_type": "markdown",
   "metadata": {},
   "source": [
    "Pour vérifier la convergence des schémas, on va faire des régressions linéaires (le programme est issu du TIPE de Thomas Dubard et a été adapté)."
   ]
  },
  {
   "cell_type": "code",
   "execution_count": 7,
   "metadata": {},
   "outputs": [],
   "source": [
    "# Cette fonction calcule l'esperance d'une liste de valeurs.\n",
    "def esperance(X):\n",
    "    s = 0\n",
    "    N = len(X)\n",
    "    for x in X:\n",
    "        s += x\n",
    "    return s / N\n",
    "\n",
    "\n",
    "# Cette fonction calcule la variance d'une liste de valeurs.\n",
    "def variance(X):\n",
    "    X2 = [x**2 for x in X]\n",
    "    return esperance(X2) - (esperance(X)**2)\n",
    "\n",
    "\n",
    "# Cette fonction calcule la covariance de deux listes de valeurs\n",
    "def covariance(X, Y):\n",
    "    X_Y = [X[k]*Y[k] for k in range(len(X))]\n",
    "    return esperance(X_Y) - esperance(X)*esperance(Y)\n",
    "\n",
    "\n",
    "# Cette fonction realise la regression lineaire d'une nuage de points, et renvoie la pente a et l'ordonnee b en t0.\n",
    "def regression_lineaire(X, Y):\n",
    "    e_x = esperance(X)\n",
    "    e_y = esperance(Y)\n",
    "    v_x = variance(X)\n",
    "    cov_xy = covariance(X, Y)\n",
    "    a = cov_xy / v_x\n",
    "    b = - (a * e_x) + e_y\n",
    "    return a, b"
   ]
  },
  {
   "cell_type": "code",
   "execution_count": null,
   "metadata": {},
   "outputs": [],
   "source": []
  }
 ],
 "metadata": {
  "kernelspec": {
   "display_name": "Python 3",
   "language": "python",
   "name": "python3"
  },
  "language_info": {
   "codemirror_mode": {
    "name": "ipython",
    "version": 3
   },
   "file_extension": ".py",
   "mimetype": "text/x-python",
   "name": "python",
   "nbconvert_exporter": "python",
   "pygments_lexer": "ipython3",
   "version": "3.7.3"
  }
 },
 "nbformat": 4,
 "nbformat_minor": 2
}
