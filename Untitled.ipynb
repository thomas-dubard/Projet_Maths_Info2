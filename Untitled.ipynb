{
 "cells": [
  {
   "cell_type": "markdown",
   "metadata": {},
   "source": [
    "# Projet équation différentielles 2"
   ]
  },
  {
   "cell_type": "markdown",
   "metadata": {},
   "source": [
    "### par Thomas Dubard et Zhaoming Liang"
   ]
  },
  {
   "cell_type": "markdown",
   "metadata": {},
   "source": [
    "## Pas fixe"
   ]
  },
  {
   "cell_type": "markdown",
   "metadata": {},
   "source": [
    "La fonction qui suit vise à implémenter une méthode d'Euler explicite afin de résoudre des équations différentielles sous la forme x' = f(x, t)."
   ]
  },
  {
   "cell_type": "code",
   "execution_count": 7,
   "metadata": {},
   "outputs": [],
   "source": [
    "import numpy as np\n",
    "import matplotlib.pyplot as plt\n",
    "import math"
   ]
  },
  {
   "cell_type": "code",
   "execution_count": 8,
   "metadata": {},
   "outputs": [],
   "source": [
    "t0 = 0.  # permet de changer facilement la condition initiale en temps\n",
    "x0 = 1.\n",
    "eps = 1e-3\n",
    "n = 50  # permet de changer facilement le nombre d'itérations que l'on va effectuer sur toutes les méthodes"
   ]
  },
  {
   "cell_type": "code",
   "execution_count": 9,
   "metadata": {},
   "outputs": [],
   "source": [
    "# Euler explicite d'ordre 1\n",
    "def solve_euler_explicit(f, x0, dt=0.01, t0=0, tf=1):\n",
    "    t = [t0]  \n",
    "    # on va prendre la convention que la condition initiale x0 est en t0 qui est global sur tout le programme\n",
    "    x = [x0]\n",
    "    while t[-1] < tf:\n",
    "        x.append(x[-1] + dt * f(t[-1], x[-1]))\n",
    "        t.append(t[-1] + dt)\n",
    "    t = np.array(t[:-1])\n",
    "    x = np.array(x[:-1])\n",
    "    return t, x"
   ]
  },
  {
   "cell_type": "markdown",
   "metadata": {},
   "source": [
    "On va tester toutes les méthodes qui suivent avec l'exponentielle."
   ]
  },
  {
   "cell_type": "code",
   "execution_count": 10,
   "metadata": {},
   "outputs": [],
   "source": [
    "def f(t, x):\n",
    "    return x"
   ]
  },
  {
   "cell_type": "markdown",
   "metadata": {},
   "source": [
    "Pour vérifier la convergence des schémas, on va faire des régressions linéaires (le programme est issu du TIPE de Thomas Dubard et a été adapté)."
   ]
  },
  {
   "cell_type": "code",
   "execution_count": 11,
   "metadata": {},
   "outputs": [],
   "source": [
    "# Cette fonction calcule l'esperance d'une liste de valeurs.\n",
    "def esperance(X):\n",
    "    s = 0\n",
    "    N = len(X)\n",
    "    for x in X:\n",
    "        s += x\n",
    "    return s / N\n",
    "\n",
    "\n",
    "# Cette fonction calcule la variance d'une liste de valeurs.\n",
    "def variance(X):\n",
    "    X2 = [x**2 for x in X]\n",
    "    return esperance(X2) - (esperance(X)**2)\n",
    "\n",
    "\n",
    "# Cette fonction calcule la covariance de deux listes de valeurs\n",
    "def covariance(X, Y):\n",
    "    X_Y = [X[k]*Y[k] for k in range(len(X))]\n",
    "    return esperance(X_Y) - esperance(X)*esperance(Y)\n",
    "\n",
    "\n",
    "# Cette fonction realise la regression lineaire d'une nuage de points, et renvoie la pente a et l'ordonnee b en t0.\n",
    "def regression_lineaire(X, Y):\n",
    "    e_x = esperance(X)\n",
    "    e_y = esperance(Y)\n",
    "    v_x = variance(X)\n",
    "    cov_xy = covariance(X, Y)\n",
    "    a = cov_xy / v_x\n",
    "    b = - (a * e_x) + e_y\n",
    "    return a, b"
   ]
  },
  {
   "cell_type": "code",
   "execution_count": 12,
   "metadata": {},
   "outputs": [],
   "source": [
    "%matplotlib inline"
   ]
  },
  {
   "cell_type": "markdown",
   "metadata": {},
   "source": [
    "Tout d'abord on constate l'erreur introduite par la méthode."
   ]
  },
  {
   "cell_type": "code",
   "execution_count": 13,
   "metadata": {},
   "outputs": [
    {
     "data": {
      "image/png": "[encoded data removed]",
      "text/plain": [
       "<Figure size 432x288 with 4 Axes>"
      ]
     },
     "metadata": {
      "needs_background": "light"
     },
     "output_type": "display_data"
    }
   ],
   "source": [
    "dt = [3*1e-2, 1e-2, 1e-3, 1e-4]\n",
    "for i in range(len(dt)):\n",
    "    t_test, x_test = solve_euler_explicit(f, x0, dt[i], t0, t0 + 1)\n",
    "    x_real = np.exp(t_test)\n",
    "    plt.subplot(100*int(len(dt)/2)+(i)*1+21)\n",
    "    plt.plot(t_test, x_test, color='red', label='Values simulated')\n",
    "    plt.plot(t_test, x_real, color='blue', label='Values calculated')\n",
    "plt.show()"
   ]
  },
  {
   "cell_type": "code",
   "execution_count": 22,
   "metadata": {},
   "outputs": [
    {
     "data": {
      "image/png": "[encoded data removed]",
      "text/plain": [
       "<Figure size 432x288 with 1 Axes>"
      ]
     },
     "metadata": {
      "needs_background": "light"
     },
     "output_type": "display_data"
    },
    {
     "name": "stdout",
     "output_type": "stream",
     "text": [
      "a=0.058276576507498845\n"
     ]
    }
   ],
   "source": [
    "from math import log\n",
    "\n",
    "dt = [3*1e-2, 1e-2, 5*1e-3, 2*1e-3, 1e-3]\n",
    "err = []\n",
    "for i in range(len(dt)):\n",
    "    t_test, x_test = solve_euler_explicit(f, x0, dt[i], t0, t0 + 1)\n",
    "    err.append(x_test[-1])\n",
    "plt.plot([-log(x, 10) for x in dt], err, color='red', label='Values simulated')\n",
    "a, b = regression_lineaire([-log(x, 10) for x in dt[:3]], err[:3])\n",
    "plt.plot([-log(x, 10) for x in dt] , [-(a+0.001) * log(x, 10) + b for x in dt], color='blue', label='simulated')\n",
    "plt.show()\n",
    "print(f\"a={a}\")"
   ]
  },
  {
   "cell_type": "markdown",
   "metadata": {},
   "source": [
    "On voit bien sur le graphique ci-dessus que les erreurs peuvent être majorées selon $max||x^j - x(t_j)|| < cste (\\Delta t)^1$, indépendamment de $\\Delta t$. En effet, ici $|log(||x^j - x(t_j)||)| \\leq a * log(\\Delta t) + b \\leq 1*log(\\Delta t) + cste'$ car $a \\leq 1$. Donc il s'agit bien d'un schéma convergent à l'ordre 1."
   ]
  },
  {
   "cell_type": "markdown",
   "metadata": {},
   "source": [
    "On va ensuite la comparer avec une méthode d'ordre 2 : on va implémenter la méthode de Heun."
   ]
  },
  {
   "cell_type": "code",
   "execution_count": 23,
   "metadata": {},
   "outputs": [],
   "source": [
    "def solve_heun_explicit(f, x0, dt=0.01, t0=0, tf=1):\n",
    "    t = [t0]  \n",
    "    # on va prendre la convention que la condition initiale x0 est en t0 qui est global sur tout le programme\n",
    "    x = [x0]\n",
    "    while t[-1] < tf:\n",
    "        swap = f(t[-1], x[-1]) + f(t[-1], x[-1] + dt * f(t[-1], x[-1]))\n",
    "        x.append(x[-1] + (dt/2) * swap)\n",
    "        t.append(t[-1] + dt)\n",
    "    t = np.array(t[:-1])\n",
    "    x = np.array(x[:-1])\n",
    "    return t, x"
   ]
  },
  {
   "cell_type": "markdown",
   "metadata": {},
   "source": [
    "**Montrons que si f est $C^1$, on a pour un schéma d'Euler explicite** $||e^{j+1}|| = \\Delta t_j \\cfrac{||f(t_{j+1}, x^{j+1}) - f(t_{j}, x^{j})||}{2} + O(\\Delta t_j^3)$"
   ]
  },
  {
   "cell_type": "markdown",
   "metadata": {},
   "source": [
    "Tout d'abord, on a :"
   ]
  },
  {
   "cell_type": "markdown",
   "metadata": {},
   "source": [
    "$e^{j+1} - \\cfrac{\\Delta t}{2}*(f(t_{j+1}, x^{j+1}) - f(t_j, x^j)) = x^j - x^{j+1} + \\int_{t_j}^{t_{j+1}} {f(s, x(s))} \\,dx - \\cfrac{1}{2} \\int_{t_j}^{t_{j+1}} {f(t_{j+1}, x^{j+1})} \\,dx + \\cfrac{1}{2} \\int_{t_j}^{t_{j+1}} {f(t_j, x^j)} \\,dx$"
   ]
  },
  {
   "cell_type": "markdown",
   "metadata": {},
   "source": [
    "Donc $e^{j+1} - \\cfrac{\\Delta t}{2}*(f(t_{j+1}, x^{j+1}) - f(t_j, x^j)) = (x^j - x^{j+1} + \\Delta t_j * f(t_j, x^j)) + \\int_{t_j}^{t_{j+1}} {(f(s, x(s)) - f(t_{j+1}, x^{j+1}))} \\,dx + \\int_{t_j}^{t_{j+1}} {(f(s, x(s)) - f(t_j, x^j))} \\,dx$"
   ]
  },
  {
   "cell_type": "markdown",
   "metadata": {},
   "source": [
    "Or dans la méthode d'Euler explicite $x^j - x^{j+1} + \\Delta t_j * f(t_j, x^j)$"
   ]
  },
  {
   "cell_type": "markdown",
   "metadata": {},
   "source": [
    "Donc $e^{j+1} - \\cfrac{\\Delta t}{2}*(f(t_{j+1}, x^{j+1}) - f(t_j, x^j)) = \\int_{t_j}^{t_{j+1}} {(f(s, x(s)) - f(t_{j+1}, x^{j+1}))} \\,dx + \\int_{t_j}^{t_{j+1}} {(f(s, x(s)) - f(t_j, x^j))} \\,dx$"
   ]
  },
  {
   "cell_type": "markdown",
   "metadata": {},
   "source": [
    "Par la formule de Taylor-Young appliquée à l'ordre 1 pour f à s au voisinage de $t_j$, légitime car f est de classe $C^1$, on a :"
   ]
  },
  {
   "cell_type": "markdown",
   "metadata": {},
   "source": [
    "$f(s, x(s)) = f(t_j, x^j) + \\partial_1f(t_j, x^j)*(s-t_j) + \\partial_2f(t_j, x^j)*f(t_j, x^j)*(s-t_j) + O((s-t_j)^2)$\n",
    "car $\\dot{x} = f(x)$"
   ]
  },
  {
   "cell_type": "markdown",
   "metadata": {},
   "source": [
    "Donc $\\int_{t_j}^{t_{j+1}} {f(s, x(s)) - f(t_{j}, x^{j})} \\,dx = \\cfrac{1}{4}*\\partial_1f(t_j, x^j)*\\Delta t^2 + \\cfrac{1}{4}*\\partial_2f(t_j, x^j)*f(t_j, x^j)*\\Delta t^2 + O(\\Delta t^3)$"
   ]
  },
  {
   "cell_type": "markdown",
   "metadata": {},
   "source": [
    "Et de même en j+1, on a :"
   ]
  },
  {
   "cell_type": "markdown",
   "metadata": {},
   "source": [
    "$f(s, x(s)) = f(t_{j+1}, x^{j+1}) + \\partial_1f(t_{j+1}, x^{j+1})*(s-t_{j+1}) + \\partial_2f(t_{j+1}, x^{j+1})*f(t_{j+1}, x^{j+1})*(s-t_{j+1}) + O((s-t_{j+1})^2)$\n",
    "au voisinage de $t_{j+1}$"
   ]
  },
  {
   "cell_type": "markdown",
   "metadata": {},
   "source": [
    "et $\\int_{t_j}^{t_{j+1}} {f(s, x(s)) - f(t_{j+1}, x^{j+1})} \\,dx = -\\cfrac{1}{4}*\\partial_1f(t_{j+1}, x^{j+1})*\\Delta t^2 - \\cfrac{1}{4}*\\partial_2f(t_{j+1}, x^{j+1})*f(t_{j+1}, x^{j+1})*\\Delta t^2 + O(\\Delta t^3)$"
   ]
  },
  {
   "cell_type": "markdown",
   "metadata": {},
   "source": [
    "Donc $e^{j+1} - \\cfrac{\\Delta t}{2}*(f(t_{j+1}, x^{j+1}) - f(t_j, x^j)) = \\cfrac{1}{4} \\Delta t^2 (\\partial_1f(t_j, x^j) - \\partial_1f(t_{j+1}, x^{j+1})) + \\cfrac{1}{4} \\Delta t^2 (\\partial_2f(t_j, x^j) - \\partial_2f(t_{j+1}, x^{j+1})) + O(\\Delta t^3)$"
   ]
  },
  {
   "cell_type": "markdown",
   "metadata": {},
   "source": [
    "Or $t_{j+1}$ est $\\Delta t$-proche de $t_j$, donc par la formule de Taylor-Young appliquée à $\\delta_1f$ et $\\delta_2f$ à l'ordre 0 en $t_j$ appliquée en $t_{j+1}$ :"
   ]
  },
  {
   "cell_type": "markdown",
   "metadata": {},
   "source": [
    "$\\delta_1f(t_{j+1}, x^{j+1}) = \\partial_1f(t_j, x^j) + o(1)$ et $\\partial_2f(t_{j+1}, x^{j+1}) = \\partial_2f(t_j, x^j) + o(1)$"
   ]
  },
  {
   "cell_type": "markdown",
   "metadata": {},
   "source": [
    "Donc $e^{j+1} - \\Delta t_j \\cfrac{f(t_{j+1}, x^{j+1}) - f(t_{j}, x^{j})}{2} = O(\\Delta t_j^3)$"
   ]
  },
  {
   "cell_type": "markdown",
   "metadata": {},
   "source": [
    "Donc $||e^{j+1}|| = \\Delta t_j \\cfrac{||f(t_{j+1}, x^{j+1}) - f(t_{j}, x^{j})||}{2} + O(\\Delta t_j^3)$"
   ]
  },
  {
   "cell_type": "code",
   "execution_count": 3,
   "metadata": {},
   "outputs": [],
   "source": [
    "from mpl_toolkits.mplot3d import Axes3D\n",
    "from numpy import *\n",
    "from scipy.integrate import solve_ivp\n",
    "import matplotlib; \n",
    "from matplotlib.pyplot import *\n",
    "%matplotlib notebook"
   ]
  },
  {
   "cell_type": "markdown",
   "metadata": {},
   "source": [
    "# Euler explicite à pas variable"
   ]
  },
  {
   "cell_type": "markdown",
   "metadata": {},
   "source": [
    "La fonction suivante code un schéma d'Euler explicite à pas variable : l'erreur commise est estimée à chaque itération et le pas de temps adapté de façon à garder cette erreur en dessous d'un seuil. Le pas reste compris entre dtmin et dtmax fixés par l'utilisateur et sort la solution échantillonnée à dtmax."
   ]
  },
  {
   "cell_type": "code",
   "execution_count": 4,
   "metadata": {},
   "outputs": [],
   "source": [
    "def solve_ivp_euler_explicit_variable_step(f, t0, x0, t_f, dtmin = 1e-16, dtmax = 0.01, atol = 1e-6):\n",
    "    dt = dtmax/10; # initial integration step\n",
    "    ts, xs = [t0], [x0]  # storage variables\n",
    "    t = t0\n",
    "    ti = 0  # internal time keeping track of time since latest storage point : must remain below dtmax\n",
    "    x = x0\n",
    "    while ts[-1] < t_f:\n",
    "        while ti < dtmax:\n",
    "            t_next, ti_next, x_next = t + dt, ti + dt, x + dt * f(x)\n",
    "            x_back = x_next - dt * f(x_next)\n",
    "            ratio_abs_error = atol / (linalg.norm(x_back-x)/2)\n",
    "            dt = 0.9 * dt * sqrt(ratio_abs_error)\n",
    "            if dt < dtmin:\n",
    "                raise ValueError(\"Time step below minimum\")\n",
    "            elif dt > dtmax/2:\n",
    "                dt = dtmax/2\n",
    "            t, ti, x = t_next, ti_next, x_next\n",
    "        dt2DT = dtmax - ti # time left to dtmax\n",
    "        t_next, ti_next, x_next = t + dt2DT, 0, x + dt2DT * f(x)\n",
    "        ts = vstack([ts,t_next])\n",
    "        xs = vstack([xs,x_next])\n",
    "        t, ti, x = t_next, ti_next, x_next\n",
    "    return (ts, xs.T)"
   ]
  },
  {
   "cell_type": "code",
   "execution_count": null,
   "metadata": {},
   "outputs": [],
   "source": []
  }
 ],
 "metadata": {
  "kernelspec": {
   "display_name": "Python 3",
   "language": "python",
   "name": "python3"
  },
  "language_info": {
   "codemirror_mode": {
    "name": "ipython",
    "version": 3
   },
   "file_extension": ".py",
   "mimetype": "text/x-python",
   "name": "python",
   "nbconvert_exporter": "python",
   "pygments_lexer": "ipython3",
   "version": "3.7.3"
  }
 },
 "nbformat": 4,
 "nbformat_minor": 2
}
